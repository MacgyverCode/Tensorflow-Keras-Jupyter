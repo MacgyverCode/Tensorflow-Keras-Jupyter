{
  "nbformat": 4,
  "nbformat_minor": 0,
  "metadata": {
    "colab": {
      "name": "basic-keras-example.ipynb",
      "version": "0.3.2",
      "provenance": [],
      "include_colab_link": true
    },
    "kernelspec": {
      "name": "python3",
      "display_name": "Python 3"
    }
  },
  "cells": [
    {
      "cell_type": "markdown",
      "metadata": {
        "id": "view-in-github",
        "colab_type": "text"
      },
      "source": [
        "<a href=\"https://colab.research.google.com/github/MacgyverCode/Tensorflow-Keras-Jupyter/blob/master/basic_keras_example_colab.ipynb\" target=\"_parent\"><img src=\"https://colab.research.google.com/assets/colab-badge.svg\" alt=\"Open In Colab\"/></a>"
      ]
    },
    {
      "metadata": {
        "id": "47kDCJNFuTru",
        "colab_type": "code",
        "colab": {
          "base_uri": "https://localhost:8080/",
          "height": 1523
        },
        "outputId": "df35ee02-e5d4-4e19-f00e-ef04ecb8d15c"
      },
      "cell_type": "code",
      "source": [
        "# Python 2.7 on Jupyter\n",
        "# Libraries: Keras, pandas, numpy, matplotlib, seaborn\n",
        "\n",
        "# For compatibility\n",
        "from __future__ import absolute_import\n",
        "from __future__ import print_function\n",
        "# For manipulating data\n",
        "import pandas as pd\n",
        "import numpy as np\n",
        "from keras.utils import np_utils # For y values\n",
        "# For plotting\n",
        "%matplotlib inline\n",
        "import seaborn as sns\n",
        "# For Keras\n",
        "from keras.models import Sequential\n",
        "from keras.layers.core import Dense, Dropout\n",
        "\n",
        "\n",
        "# Set data\n",
        "data = np.array([\n",
        "    [0, 0, 0],\n",
        "    [1, 1, 0],\n",
        "    [2, 2, 0],\n",
        "    [3, 3, 0],\n",
        "    [4, 4, 0],\n",
        "    [5, 5, 0],\n",
        "    [6, 6, 0],\n",
        "    [7, 7, 0],\n",
        "    [8, 8, 0],\n",
        "    [9, 9, 0],\n",
        "    [10, 10, 1],\n",
        "    [11, 11, 1],\n",
        "    [12, 12, 1],\n",
        "    [13, 13, 1],\n",
        "    [14, 14, 1],\n",
        "    [15, 15, 1],\n",
        "    [16, 16, 1],\n",
        "    [17, 17, 1],\n",
        "    [18, 18, 1],\n",
        "    [19, 19, 1]\n",
        "])\n",
        "\n",
        "\n",
        "data = np.vstack((data, data, data, data)) # Just for sufficient input\n",
        "data = pd.DataFrame(data, columns=['x', 'y', 'class'])\n",
        "\n",
        "# Split X and y\n",
        "X = data.iloc[:, :-1].values\n",
        "y = data.iloc[:, -1:].values\n",
        "\n",
        "# Get dimensions of input and output\n",
        "dimof_input = X.shape[1]\n",
        "dimof_output = np.max(y) + 1\n",
        "print('dimof_input: ', dimof_input)\n",
        "print('dimof_output: ', dimof_output)\n",
        "\n",
        "# Set y categorical\n",
        "y = np_utils.to_categorical(y, dimof_output)\n",
        "\n",
        "# Set constants\n",
        "batch_size = 1528\n",
        "dimof_middle = 100\n",
        "dropout = 0.1\n",
        "countof_epoch = 500\n",
        "verbose = 0\n",
        "print()\n",
        "print('---Model Parameters---')\n",
        "print('batch_size: ', batch_size)\n",
        "print('dimof_middle: ', dimof_middle)\n",
        "print('dropout: ', dropout)\n",
        "print('countof_epoch: ', countof_epoch)\n",
        "print('verbose: ', verbose)\n",
        "print()\n",
        "\n",
        "# Set model\n",
        "model = Sequential()\n",
        "model.add(Dense(dimof_middle, input_dim=dimof_input, kernel_initializer='uniform', activation='tanh'))\n",
        "model.add(Dropout(dropout))\n",
        "model.add(Dense(dimof_middle, kernel_initializer='uniform', activation='tanh'))\n",
        "model.add(Dropout(dropout))\n",
        "model.add(Dense(dimof_output, kernel_initializer='uniform', activation='softmax'))\n",
        "model.compile(loss='mse', optimizer='sgd', metrics=['accuracy'])\n",
        "\n",
        "# Train\n",
        "model.fit(\n",
        "    X, y,\n",
        "    validation_split=0.2,\n",
        "    batch_size=batch_size, nb_epoch=countof_epoch, verbose=verbose)\n",
        "\n",
        "# Evaluate\n",
        "loss, accuracy = model.evaluate(X, y, verbose=verbose)\n",
        "print()\n",
        "print('---Model Performance---')\n",
        "print('loss: ', loss)\n",
        "print('accuracy: ', accuracy)\n",
        "print()\n",
        "\n",
        "# Predict\n",
        "# model.predict_classes(X, verbose=verbose)\n",
        "print()\n",
        "print('---Sample Predictions---')\n",
        "print('prediction of [1, 1]: ', model.predict_classes(np.array([[1, 1]]), verbose=verbose))\n",
        "print('prediction of [8, 8]: ', model.predict_classes(np.array([[8, 8]]), verbose=verbose))\n",
        "print('prediction of [15, 1]: ', model.predict_classes(np.array([[15, 1]]), verbose=verbose))\n",
        "print('prediction of [18, 8]: ', model.predict_classes(np.array([[18, 8]]), verbose=verbose))\n",
        "\n",
        "# Plot\n",
        "sns.lmplot('x', 'y', data, 'class', fit_reg=False).set(title='Data')\n",
        "data_ = data.copy()\n",
        "data_['class'] = model.predict_classes(X, verbose=0)\n",
        "sns.lmplot('x', 'y', data_, 'class', fit_reg=False).set(title='Trained Result')\n",
        "data_['class'] = [ 'Error' if is_error else 'Non Error' for is_error in data['class'] != data_['class']]\n",
        "sns.lmplot('x', 'y', data_, 'class', fit_reg=False).set(title='Errors')\n",
        "dimof_input:  2\n",
        "dimof_output:  2\n",
        "\n",
        "\n"
      ],
      "execution_count": 3,
      "outputs": [
        {
          "output_type": "stream",
          "text": [
            "dimof_input:  2\n",
            "dimof_output:  2\n",
            "\n",
            "---Model Parameters---\n",
            "batch_size:  1528\n",
            "dimof_middle:  100\n",
            "dropout:  0.1\n",
            "countof_epoch:  500\n",
            "verbose:  0\n",
            "\n"
          ],
          "name": "stdout"
        },
        {
          "output_type": "stream",
          "text": [
            "/usr/local/lib/python3.6/dist-packages/keras/models.py:981: UserWarning: The `nb_epoch` argument in `fit` has been renamed `epochs`.\n",
            "  warnings.warn('The `nb_epoch` argument in `fit` '\n"
          ],
          "name": "stderr"
        },
        {
          "output_type": "stream",
          "text": [
            "\n",
            "---Model Performance---\n",
            "loss:  0.1528608739376068\n",
            "accuracy:  0.8\n",
            "\n",
            "\n",
            "---Sample Predictions---\n",
            "prediction of [1, 1]:  [0]\n",
            "prediction of [8, 8]:  [1]\n",
            "prediction of [15, 1]:  [1]\n",
            "prediction of [18, 8]:  [1]\n"
          ],
          "name": "stdout"
        },
        {
          "output_type": "display_data",
          "data": {
            "image/png": "[encoded data removed]",
            "text/plain": [
              "<matplotlib.figure.Figure at 0x7fe7c02a3710>"
            ]
          },
          "metadata": {
            "tags": []
          }
        },
        {
          "output_type": "display_data",
          "data": {
            "image/png": "[encoded data removed]",
            "text/plain": [
              "<matplotlib.figure.Figure at 0x7fe7c0e23e10>"
            ]
          },
          "metadata": {
            "tags": []
          }
        },
        {
          "output_type": "display_data",
          "data": {
            "image/png": "[encoded data removed]",
            "text/plain": [
              "<matplotlib.figure.Figure at 0x7fe7c02347f0>"
            ]
          },
          "metadata": {
            "tags": []
          }
        }
      ]
    }
  ]
}